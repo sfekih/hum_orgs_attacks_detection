{
 "cells": [
  {
   "cell_type": "code",
   "execution_count": 1,
   "metadata": {},
   "outputs": [],
   "source": [
    "import pandas as pd\n",
    "from ast import literal_eval\n",
    "import numpy as np\n",
    "\n",
    "import pandas as pd\n",
    "pd.options.mode.chained_assignment = None\n",
    "\n",
    "import seaborn as sns\n",
    "import matplotlib.pyplot as plt\n",
    "\n",
    "from typing import List"
   ]
  },
  {
   "cell_type": "code",
   "execution_count": 2,
   "metadata": {},
   "outputs": [],
   "source": [
    "df = pd.read_csv('generated_data_decompressed/partitions_en_hdbscan_final.csv')"
   ]
  },
  {
   "cell_type": "code",
   "execution_count": 3,
   "metadata": {},
   "outputs": [
    {
     "data": {
      "text/plain": [
       "(9701, 6)"
      ]
     },
     "execution_count": 3,
     "metadata": {},
     "output_type": "execute_result"
    }
   ],
   "source": [
    "df.shape"
   ]
  },
  {
   "cell_type": "code",
   "execution_count": 4,
   "metadata": {},
   "outputs": [
    {
     "data": {
      "text/html": [
       "<div>\n",
       "<style scoped>\n",
       "    .dataframe tbody tr th:only-of-type {\n",
       "        vertical-align: middle;\n",
       "    }\n",
       "\n",
       "    .dataframe tbody tr th {\n",
       "        vertical-align: top;\n",
       "    }\n",
       "\n",
       "    .dataframe thead th {\n",
       "        text-align: right;\n",
       "    }\n",
       "</style>\n",
       "<table border=\"1\" class=\"dataframe\">\n",
       "  <thead>\n",
       "    <tr style=\"text-align: right;\">\n",
       "      <th></th>\n",
       "      <th>tweet_id</th>\n",
       "      <th>tweet</th>\n",
       "      <th>cleaned_tweets</th>\n",
       "      <th>partition</th>\n",
       "      <th>topic</th>\n",
       "      <th>cluster_size</th>\n",
       "    </tr>\n",
       "  </thead>\n",
       "  <tbody>\n",
       "    <tr>\n",
       "      <th>0</th>\n",
       "      <td>1498720494102609920</td>\n",
       "      <td>@LAMStandley @ICRC Shut your stupid ass up bitch</td>\n",
       "      <td>shut stupid ass bitch</td>\n",
       "      <td>-1</td>\n",
       "      <td>[]</td>\n",
       "      <td>3849</td>\n",
       "    </tr>\n",
       "    <tr>\n",
       "      <th>1</th>\n",
       "      <td>1499400883800395776</td>\n",
       "      <td>@Aih_News @ICRC You’re an ass</td>\n",
       "      <td>your ass</td>\n",
       "      <td>-1</td>\n",
       "      <td>[]</td>\n",
       "      <td>3849</td>\n",
       "    </tr>\n",
       "    <tr>\n",
       "      <th>2</th>\n",
       "      <td>1497309239932452864</td>\n",
       "      <td>@PMaurerICRC @ICRC Fuck you... Send to straigh...</td>\n",
       "      <td>fuck send straight money ukrain compani total ...</td>\n",
       "      <td>-1</td>\n",
       "      <td>[]</td>\n",
       "      <td>3849</td>\n",
       "    </tr>\n",
       "    <tr>\n",
       "      <th>3</th>\n",
       "      <td>1497674792169840640</td>\n",
       "      <td>@Kris_HK @cryptocom Yo. Red cross can go fuck ...</td>\n",
       "      <td>go fuck send money shit</td>\n",
       "      <td>-1</td>\n",
       "      <td>[]</td>\n",
       "      <td>3849</td>\n",
       "    </tr>\n",
       "    <tr>\n",
       "      <th>4</th>\n",
       "      <td>1498624524857876480</td>\n",
       "      <td>@ejoftheweb @Caucasuswar @PhilipJTaylor1 @ICRC...</td>\n",
       "      <td>fuck pussi peopl fuck olimp stupid ue fuck nat...</td>\n",
       "      <td>-1</td>\n",
       "      <td>[]</td>\n",
       "      <td>3849</td>\n",
       "    </tr>\n",
       "    <tr>\n",
       "      <th>...</th>\n",
       "      <td>...</td>\n",
       "      <td>...</td>\n",
       "      <td>...</td>\n",
       "      <td>...</td>\n",
       "      <td>...</td>\n",
       "      <td>...</td>\n",
       "    </tr>\n",
       "    <tr>\n",
       "      <th>9696</th>\n",
       "      <td>1489188173179768832</td>\n",
       "      <td>@pawanbishnoi722 @CandyLiis @Wilkmans @Euromai...</td>\n",
       "      <td>russian crap doesnt even allow go recov dead b...</td>\n",
       "      <td>238</td>\n",
       "      <td>['russian', 'even', 'theyr', 'dead', 'putin', ...</td>\n",
       "      <td>5</td>\n",
       "    </tr>\n",
       "    <tr>\n",
       "      <th>9697</th>\n",
       "      <td>1505319868652040192</td>\n",
       "      <td>@The_Lookout_N Oh look how the Russian are evi...</td>\n",
       "      <td>oh look russian evil grant pow statu captur me...</td>\n",
       "      <td>238</td>\n",
       "      <td>['russian', 'even', 'theyr', 'dead', 'putin', ...</td>\n",
       "      <td>5</td>\n",
       "    </tr>\n",
       "    <tr>\n",
       "      <th>9698</th>\n",
       "      <td>1497874816086462464</td>\n",
       "      <td>@redcross take Russian dead soldiers bodies fr...</td>\n",
       "      <td>russian dead soldier bodi ukrain back russia s...</td>\n",
       "      <td>238</td>\n",
       "      <td>['russian', 'even', 'theyr', 'dead', 'putin', ...</td>\n",
       "      <td>5</td>\n",
       "    </tr>\n",
       "    <tr>\n",
       "      <th>9699</th>\n",
       "      <td>1497801782029815808</td>\n",
       "      <td>@RusEmbUSA @mfa_russia @USApoRusski @PentagonP...</td>\n",
       "      <td>bullshit russia prepar dont collect bodi dead ...</td>\n",
       "      <td>238</td>\n",
       "      <td>['russian', 'even', 'theyr', 'dead', 'putin', ...</td>\n",
       "      <td>5</td>\n",
       "    </tr>\n",
       "    <tr>\n",
       "      <th>9700</th>\n",
       "      <td>1498245677259837440</td>\n",
       "      <td>Russian soldiers' bodies piling up. Putin is a...</td>\n",
       "      <td>russian soldier bodi pile putin crimin russiau...</td>\n",
       "      <td>238</td>\n",
       "      <td>['russian', 'even', 'theyr', 'dead', 'putin', ...</td>\n",
       "      <td>5</td>\n",
       "    </tr>\n",
       "  </tbody>\n",
       "</table>\n",
       "<p>9701 rows × 6 columns</p>\n",
       "</div>"
      ],
      "text/plain": [
       "                 tweet_id                                              tweet  \\\n",
       "0     1498720494102609920   @LAMStandley @ICRC Shut your stupid ass up bitch   \n",
       "1     1499400883800395776                      @Aih_News @ICRC You’re an ass   \n",
       "2     1497309239932452864  @PMaurerICRC @ICRC Fuck you... Send to straigh...   \n",
       "3     1497674792169840640  @Kris_HK @cryptocom Yo. Red cross can go fuck ...   \n",
       "4     1498624524857876480  @ejoftheweb @Caucasuswar @PhilipJTaylor1 @ICRC...   \n",
       "...                   ...                                                ...   \n",
       "9696  1489188173179768832  @pawanbishnoi722 @CandyLiis @Wilkmans @Euromai...   \n",
       "9697  1505319868652040192  @The_Lookout_N Oh look how the Russian are evi...   \n",
       "9698  1497874816086462464  @redcross take Russian dead soldiers bodies fr...   \n",
       "9699  1497801782029815808  @RusEmbUSA @mfa_russia @USApoRusski @PentagonP...   \n",
       "9700  1498245677259837440  Russian soldiers' bodies piling up. Putin is a...   \n",
       "\n",
       "                                         cleaned_tweets  partition  \\\n",
       "0                                 shut stupid ass bitch         -1   \n",
       "1                                              your ass         -1   \n",
       "2     fuck send straight money ukrain compani total ...         -1   \n",
       "3                               go fuck send money shit         -1   \n",
       "4     fuck pussi peopl fuck olimp stupid ue fuck nat...         -1   \n",
       "...                                                 ...        ...   \n",
       "9696  russian crap doesnt even allow go recov dead b...        238   \n",
       "9697  oh look russian evil grant pow statu captur me...        238   \n",
       "9698  russian dead soldier bodi ukrain back russia s...        238   \n",
       "9699  bullshit russia prepar dont collect bodi dead ...        238   \n",
       "9700  russian soldier bodi pile putin crimin russiau...        238   \n",
       "\n",
       "                                                  topic  cluster_size  \n",
       "0                                                    []          3849  \n",
       "1                                                    []          3849  \n",
       "2                                                    []          3849  \n",
       "3                                                    []          3849  \n",
       "4                                                    []          3849  \n",
       "...                                                 ...           ...  \n",
       "9696  ['russian', 'even', 'theyr', 'dead', 'putin', ...             5  \n",
       "9697  ['russian', 'even', 'theyr', 'dead', 'putin', ...             5  \n",
       "9698  ['russian', 'even', 'theyr', 'dead', 'putin', ...             5  \n",
       "9699  ['russian', 'even', 'theyr', 'dead', 'putin', ...             5  \n",
       "9700  ['russian', 'even', 'theyr', 'dead', 'putin', ...             5  \n",
       "\n",
       "[9701 rows x 6 columns]"
      ]
     },
     "execution_count": 4,
     "metadata": {},
     "output_type": "execute_result"
    }
   ],
   "source": [
    "df"
   ]
  },
  {
   "cell_type": "code",
   "execution_count": 5,
   "metadata": {},
   "outputs": [
    {
     "name": "stdout",
     "output_type": "stream",
     "text": [
      "percentage of non clustered entries is: 40.0%\n"
     ]
    }
   ],
   "source": [
    "print(f'percentage of non clustered entries is: {np.round((df.partition==-1).sum() / df.shape[0], 2) * 100}%')"
   ]
  },
  {
   "cell_type": "code",
   "execution_count": 11,
   "metadata": {},
   "outputs": [
    {
     "data": {
      "text/plain": [
       "3849"
      ]
     },
     "execution_count": 11,
     "metadata": {},
     "output_type": "execute_result"
    }
   ],
   "source": [
    "(df.partition==-1).sum()"
   ]
  },
  {
   "cell_type": "code",
   "execution_count": 6,
   "metadata": {},
   "outputs": [
    {
     "data": {
      "text/plain": [
       "Text(0.5, 1.0, 'number of clusters for each cluster size')"
      ]
     },
     "execution_count": 6,
     "metadata": {},
     "output_type": "execute_result"
    },
    {
     "data": {
      "image/png": "[encoded data removed]",
      "text/plain": [
       "<Figure size 432x288 with 1 Axes>"
      ]
     },
     "metadata": {
      "needs_background": "light"
     },
     "output_type": "display_data"
    }
   ],
   "source": [
    "clusters = df[['partition', 'cluster_size', 'topic']].drop_duplicates().iloc[1:]\n",
    "sns.histplot(clusters.cluster_size, bins=[i*10 for i in range (10)])\n",
    "plt.ylabel('number of clusters')\n",
    "plt.title('number of clusters for each cluster size')"
   ]
  },
  {
   "cell_type": "code",
   "execution_count": 12,
   "metadata": {},
   "outputs": [],
   "source": [
    "def get_bool_one_kw_one_row(topics_list, needed_topic: str):\n",
    "    if type(topics_list) is str:\n",
    "        return needed_topic in  topics_list\n",
    "    else:\n",
    "        if len(topics_list)==0:\n",
    "            return False\n",
    "        else:\n",
    "            return any([needed_topic in item for item in topics_list])\n",
    "\n",
    "def get_topics_present_in_kw(df: pd.DataFrame, needed_topic: str):\n",
    "    return df.loc[df.topic.apply(lambda x: get_bool_one_kw_one_row(x, needed_topic)), 'partition'].tolist()"
   ]
  },
  {
   "cell_type": "markdown",
   "metadata": {},
   "source": [
    "* Get overview of topics and their repetitiveness in clusters:"
   ]
  },
  {
   "cell_type": "code",
   "execution_count": 13,
   "metadata": {},
   "outputs": [
    {
     "data": {
      "text/html": [
       "<div>\n",
       "<style scoped>\n",
       "    .dataframe tbody tr th:only-of-type {\n",
       "        vertical-align: middle;\n",
       "    }\n",
       "\n",
       "    .dataframe tbody tr th {\n",
       "        vertical-align: top;\n",
       "    }\n",
       "\n",
       "    .dataframe thead th {\n",
       "        text-align: right;\n",
       "    }\n",
       "</style>\n",
       "<table border=\"1\" class=\"dataframe\">\n",
       "  <thead>\n",
       "    <tr style=\"text-align: right;\">\n",
       "      <th></th>\n",
       "      <th>topics_list</th>\n",
       "      <th>n_topics</th>\n",
       "    </tr>\n",
       "  </thead>\n",
       "  <tbody>\n",
       "    <tr>\n",
       "      <th>gay</th>\n",
       "      <td>[27]</td>\n",
       "      <td>1</td>\n",
       "    </tr>\n",
       "    <tr>\n",
       "      <th>blood</th>\n",
       "      <td>[27, 134, 127, 128]</td>\n",
       "      <td>4</td>\n",
       "    </tr>\n",
       "    <tr>\n",
       "      <th>homophob</th>\n",
       "      <td>[27]</td>\n",
       "      <td>1</td>\n",
       "    </tr>\n",
       "    <tr>\n",
       "      <th>russia</th>\n",
       "      <td>[89, 75, 243, 3, 29, 227, 194, 237, 15, 221, 2...</td>\n",
       "      <td>53</td>\n",
       "    </tr>\n",
       "    <tr>\n",
       "      <th>ukrain</th>\n",
       "      <td>[153, 46, 89, 77, 75, 101, 201, 29, 208, 151, ...</td>\n",
       "      <td>52</td>\n",
       "    </tr>\n",
       "    <tr>\n",
       "      <th>steal</th>\n",
       "      <td>[215, 18, 33]</td>\n",
       "      <td>3</td>\n",
       "    </tr>\n",
       "  </tbody>\n",
       "</table>\n",
       "</div>"
      ],
      "text/plain": [
       "                                                topics_list  n_topics\n",
       "gay                                                    [27]         1\n",
       "blood                                   [27, 134, 127, 128]         4\n",
       "homophob                                               [27]         1\n",
       "russia    [89, 75, 243, 3, 29, 227, 194, 237, 15, 221, 2...        53\n",
       "ukrain    [153, 46, 89, 77, 75, 101, 201, 29, 208, 151, ...        52\n",
       "steal                                         [215, 18, 33]         3"
      ]
     },
     "execution_count": 13,
     "metadata": {},
     "output_type": "execute_result"
    }
   ],
   "source": [
    "tested_topics = ['gay', 'blood', 'homophob', 'russia', 'ukrain', 'steal']\n",
    "\n",
    "test_dict = {}\n",
    "for one_tested_topic in tested_topics:\n",
    "    dict_one_topic = {}\n",
    "    topics = get_topics_present_in_kw (clusters, one_tested_topic)\n",
    "    dict_one_topic['topics_list'] = topics\n",
    "    dict_one_topic['n_topics'] = len(topics)\n",
    "    \n",
    "    test_dict[one_tested_topic] = dict_one_topic\n",
    "\n",
    "pd.DataFrame.from_dict(test_dict, orient='index')"
   ]
  },
  {
   "cell_type": "code",
   "execution_count": 21,
   "metadata": {},
   "outputs": [],
   "source": [
    "def flatten(t):\n",
    "    return [item for sublist in t for item in sublist]\n",
    "\n",
    "from collections import Counter\n",
    "\n",
    "counts = Counter(flatten(np.array(clusters.topic.apply(literal_eval))))"
   ]
  },
  {
   "cell_type": "code",
   "execution_count": 23,
   "metadata": {},
   "outputs": [
    {
     "data": {
      "text/plain": [
       "[('peopl', 52),\n",
       " ('ukrain', 43),\n",
       " ('like', 41),\n",
       " ('russia', 40),\n",
       " ('russian', 39),\n",
       " ('donat', 38),\n",
       " ('go', 38),\n",
       " ('fuck', 36),\n",
       " ('get', 35),\n",
       " ('kill', 34),\n",
       " ('putin', 33),\n",
       " ('dont', 27),\n",
       " ('stop', 22),\n",
       " ('money', 21),\n",
       " ('amp', 21),\n",
       " ('give', 16),\n",
       " ('know', 16),\n",
       " ('say', 15),\n",
       " ('civilian', 13),\n",
       " ('rule', 13),\n",
       " ('ukrainian', 13),\n",
       " ('world', 12),\n",
       " ('countri', 11),\n",
       " ('children', 11),\n",
       " ('your', 11),\n",
       " ('shit', 11),\n",
       " ('human', 11),\n",
       " ('terrorist', 10),\n",
       " ('help', 10),\n",
       " ('corrupt', 10),\n",
       " ('that', 10),\n",
       " ('bomb', 9),\n",
       " ('lie', 9),\n",
       " ('shoot', 9),\n",
       " ('make', 9),\n",
       " ('support', 9),\n",
       " ('crime', 9),\n",
       " ('would', 9),\n",
       " ('think', 9),\n",
       " ('call', 8)]"
      ]
     },
     "execution_count": 23,
     "metadata": {},
     "output_type": "execute_result"
    }
   ],
   "source": [
    "counts.most_common(40)"
   ]
  },
  {
   "cell_type": "code",
   "execution_count": null,
   "metadata": {},
   "outputs": [],
   "source": []
  },
  {
   "cell_type": "code",
   "execution_count": null,
   "metadata": {},
   "outputs": [],
   "source": []
  },
  {
   "cell_type": "code",
   "execution_count": null,
   "metadata": {},
   "outputs": [],
   "source": []
  },
  {
   "cell_type": "code",
   "execution_count": null,
   "metadata": {},
   "outputs": [],
   "source": []
  },
  {
   "cell_type": "code",
   "execution_count": null,
   "metadata": {},
   "outputs": [],
   "source": []
  },
  {
   "cell_type": "code",
   "execution_count": null,
   "metadata": {},
   "outputs": [],
   "source": []
  }
 ],
 "metadata": {
  "interpreter": {
   "hash": "f64dd46e90b3905b4fd78019b27090d0894b00bbe12298e2f5acb830b1e01dd4"
  },
  "kernelspec": {
   "display_name": "Python 3.8.5 ('base')",
   "language": "python",
   "name": "python3"
  },
  "language_info": {
   "codemirror_mode": {
    "name": "ipython",
    "version": 3
   },
   "file_extension": ".py",
   "mimetype": "text/x-python",
   "name": "python",
   "nbconvert_exporter": "python",
   "pygments_lexer": "ipython3",
   "version": "3.8.5"
  },
  "orig_nbformat": 4
 },
 "nbformat": 4,
 "nbformat_minor": 2
}
