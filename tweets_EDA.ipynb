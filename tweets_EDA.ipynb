{
 "cells": [
  {
   "cell_type": "code",
   "execution_count": 7,
   "metadata": {},
   "outputs": [],
   "source": [
    "import pandas as pd\n",
    "from collections import Counter\n",
    "from ast import literal_eval\n",
    "from tqdm import tqdm\n",
    "\n",
    "import matplotlib.pyplot as plt\n",
    "import seaborn as sns"
   ]
  },
  {
   "cell_type": "code",
   "execution_count": 2,
   "metadata": {},
   "outputs": [],
   "source": [
    "columns_names = ['date', 'language', 'mentions', 'n_retweets', 'user_id', 'tweet', 'type', 'retweeted_to_id', 'quoted_i']\n",
    "cols = [2, 3, 4, 7, 8, 10, 12, 13, 14]\n",
    "data = pd.read_csv('data/jan18_data.csv', usecols=cols, names=columns_names)"
   ]
  },
  {
   "cell_type": "code",
   "execution_count": 3,
   "metadata": {},
   "outputs": [
    {
     "data": {
      "text/html": [
       "<div>\n",
       "<style scoped>\n",
       "    .dataframe tbody tr th:only-of-type {\n",
       "        vertical-align: middle;\n",
       "    }\n",
       "\n",
       "    .dataframe tbody tr th {\n",
       "        vertical-align: top;\n",
       "    }\n",
       "\n",
       "    .dataframe thead th {\n",
       "        text-align: right;\n",
       "    }\n",
       "</style>\n",
       "<table border=\"1\" class=\"dataframe\">\n",
       "  <thead>\n",
       "    <tr style=\"text-align: right;\">\n",
       "      <th></th>\n",
       "      <th>date</th>\n",
       "      <th>language</th>\n",
       "      <th>mentions</th>\n",
       "      <th>n_retweets</th>\n",
       "      <th>user_id</th>\n",
       "      <th>tweet</th>\n",
       "      <th>type</th>\n",
       "      <th>retweeted_to_id</th>\n",
       "      <th>quoted_i</th>\n",
       "    </tr>\n",
       "  </thead>\n",
       "  <tbody>\n",
       "    <tr>\n",
       "      <th>0</th>\n",
       "      <td>2021-12-09 10:56:06</td>\n",
       "      <td>it</td>\n",
       "      <td>{'urls': [{'start': 26; 'end': 49; 'url': 'htt...</td>\n",
       "      <td>{'retweet_count': 0; 'reply_count': 0; 'like_c...</td>\n",
       "      <td>855904725652451330</td>\n",
       "      <td>Croce Rossa della Italia: https://t.co/lbnBTjx...</td>\n",
       "      <td>\\N</td>\n",
       "      <td>\\N</td>\n",
       "      <td>\\N</td>\n",
       "    </tr>\n",
       "    <tr>\n",
       "      <th>1</th>\n",
       "      <td>2021-12-09 10:56:06</td>\n",
       "      <td>it</td>\n",
       "      <td>{'mentions': [{'start': 0; 'end': 13; 'usernam...</td>\n",
       "      <td>{'retweet_count': 0; 'reply_count': 0; 'like_c...</td>\n",
       "      <td>2346647000</td>\n",
       "      <td>@annibale1962 @IULIUSAGRICOLA @distefanoTW @br...</td>\n",
       "      <td>[{'type': 'replied_to'; 'id': '952658933956653...</td>\n",
       "      <td>3261739077</td>\n",
       "      <td>\\N</td>\n",
       "    </tr>\n",
       "    <tr>\n",
       "      <th>2</th>\n",
       "      <td>2021-12-09 10:56:06</td>\n",
       "      <td>it</td>\n",
       "      <td>{'mentions': [{'start': 45; 'end': 57; 'userna...</td>\n",
       "      <td>{'retweet_count': 1; 'reply_count': 0; 'like_c...</td>\n",
       "      <td>327445938</td>\n",
       "      <td>Come ci si può fidare di testate del genere?\\\\...</td>\n",
       "      <td>[{'type': 'quoted'; 'id': '952649047000657920'}]</td>\n",
       "      <td>\\N</td>\n",
       "      <td>[{'domain': {'id': '47'; 'name': 'Brand'; 'des...</td>\n",
       "    </tr>\n",
       "    <tr>\n",
       "      <th>3</th>\n",
       "      <td>2021-12-09 10:56:06</td>\n",
       "      <td>it</td>\n",
       "      <td>{'mentions': [{'start': 0; 'end': 11; 'usernam...</td>\n",
       "      <td>{'retweet_count': 0; 'reply_count': 1; 'like_c...</td>\n",
       "      <td>1009687062</td>\n",
       "      <td>@petroglifi @borghi_claudio @marcogirgi @Roghi...</td>\n",
       "      <td>[{'type': 'replied_to'; 'id': '952653212166782...</td>\n",
       "      <td>2346647000</td>\n",
       "      <td>\\N</td>\n",
       "    </tr>\n",
       "    <tr>\n",
       "      <th>4</th>\n",
       "      <td>2021-12-09 10:56:06</td>\n",
       "      <td>it</td>\n",
       "      <td>{'mentions': [{'start': 98; 'end': 109; 'usern...</td>\n",
       "      <td>{'retweet_count': 2; 'reply_count': 0; 'like_c...</td>\n",
       "      <td>98654009</td>\n",
       "      <td>Sassate contro l'auto della Croce rossa; forse...</td>\n",
       "      <td>\\N</td>\n",
       "      <td>\\N</td>\n",
       "      <td>\\N</td>\n",
       "    </tr>\n",
       "  </tbody>\n",
       "</table>\n",
       "</div>"
      ],
      "text/plain": [
       "                  date language  \\\n",
       "0  2021-12-09 10:56:06       it   \n",
       "1  2021-12-09 10:56:06       it   \n",
       "2  2021-12-09 10:56:06       it   \n",
       "3  2021-12-09 10:56:06       it   \n",
       "4  2021-12-09 10:56:06       it   \n",
       "\n",
       "                                            mentions  \\\n",
       "0  {'urls': [{'start': 26; 'end': 49; 'url': 'htt...   \n",
       "1  {'mentions': [{'start': 0; 'end': 13; 'usernam...   \n",
       "2  {'mentions': [{'start': 45; 'end': 57; 'userna...   \n",
       "3  {'mentions': [{'start': 0; 'end': 11; 'usernam...   \n",
       "4  {'mentions': [{'start': 98; 'end': 109; 'usern...   \n",
       "\n",
       "                                          n_retweets             user_id  \\\n",
       "0  {'retweet_count': 0; 'reply_count': 0; 'like_c...  855904725652451330   \n",
       "1  {'retweet_count': 0; 'reply_count': 0; 'like_c...          2346647000   \n",
       "2  {'retweet_count': 1; 'reply_count': 0; 'like_c...           327445938   \n",
       "3  {'retweet_count': 0; 'reply_count': 1; 'like_c...          1009687062   \n",
       "4  {'retweet_count': 2; 'reply_count': 0; 'like_c...            98654009   \n",
       "\n",
       "                                               tweet  \\\n",
       "0  Croce Rossa della Italia: https://t.co/lbnBTjx...   \n",
       "1  @annibale1962 @IULIUSAGRICOLA @distefanoTW @br...   \n",
       "2  Come ci si può fidare di testate del genere?\\\\...   \n",
       "3  @petroglifi @borghi_claudio @marcogirgi @Roghi...   \n",
       "4  Sassate contro l'auto della Croce rossa; forse...   \n",
       "\n",
       "                                                type retweeted_to_id  \\\n",
       "0                                                 \\N              \\N   \n",
       "1  [{'type': 'replied_to'; 'id': '952658933956653...      3261739077   \n",
       "2   [{'type': 'quoted'; 'id': '952649047000657920'}]              \\N   \n",
       "3  [{'type': 'replied_to'; 'id': '952653212166782...      2346647000   \n",
       "4                                                 \\N              \\N   \n",
       "\n",
       "                                            quoted_i  \n",
       "0                                                 \\N  \n",
       "1                                                 \\N  \n",
       "2  [{'domain': {'id': '47'; 'name': 'Brand'; 'des...  \n",
       "3                                                 \\N  \n",
       "4                                                 \\N  "
      ]
     },
     "execution_count": 3,
     "metadata": {},
     "output_type": "execute_result"
    }
   ],
   "source": [
    "data.head()"
   ]
  },
  {
   "cell_type": "code",
   "execution_count": 4,
   "metadata": {},
   "outputs": [],
   "source": [
    "nb_rows = data.shape[0]"
   ]
  },
  {
   "cell_type": "code",
   "execution_count": 5,
   "metadata": {},
   "outputs": [],
   "source": [
    "def custom_eval(character):\n",
    "    return literal_eval(character.replace(';', ','))"
   ]
  },
  {
   "cell_type": "code",
   "execution_count": 6,
   "metadata": {},
   "outputs": [
    {
     "name": "stderr",
     "output_type": "stream",
     "text": [
      "100%|██████████| 1702507/1702507 [02:20<00:00, 12104.11it/s]\n"
     ]
    }
   ],
   "source": [
    "retweet_counts = []\n",
    "like_counts = []\n",
    "reply_counts = []\n",
    "quote_counts = []\n",
    "\n",
    "retweets = list(data.n_retweets)\n",
    "for retweet in tqdm(retweets):\n",
    "    dict_retweet = custom_eval(retweet)\n",
    "    retweet_counts.append(dict_retweet['retweet_count'])\n",
    "    reply_counts.append(dict_retweet['reply_count'])\n",
    "    like_counts.append(dict_retweet['like_count'])\n",
    "    quote_counts.append(dict_retweet['quote_count'])"
   ]
  },
  {
   "cell_type": "code",
   "execution_count": 29,
   "metadata": {},
   "outputs": [
    {
     "data": {
      "image/png": "[encoded data removed]",
      "text/plain": [
       "<Figure size 864x720 with 4 Axes>"
      ]
     },
     "metadata": {
      "needs_background": "light"
     },
     "output_type": "display_data"
    }
   ],
   "source": [
    "fig, axes = plt.subplots(2, 2, figsize=(12,10))\n",
    "sns.distplot(retweet_counts, ax=axes[0, 0], kde=False, bins=[0, 20, 40,  50, 100])\n",
    "sns.distplot(reply_counts, ax=axes[0, 1], kde=False, bins=[0, 20, 40,  50, 100])\n",
    "sns.distplot(like_counts, ax=axes[1, 0], kde=False, bins=[0, 20, 40,  50, 100])\n",
    "sns.distplot(quote_counts, ax=axes[1, 1], kde=False, bins=[0, 20, 40,  50, 100])\n",
    "\n",
    "axes[0, 0].set_title('barplot for retweet counts')\n",
    "axes[0, 0].set_xlabel('number of retweets')\n",
    "\n",
    "axes[0, 1].set_title('barplot for reply counts')\n",
    "axes[0, 1].set_xlabel('number of replies')\n",
    "\n",
    "axes[1, 0].set_title('barplot for quote counts')\n",
    "axes[1, 0].set_xlabel('number of quotes')\n",
    "\n",
    "axes[1, 1].set_title('barplot for like counts')\n",
    "axes[1, 1].set_xlabel('number of likes')\n",
    "\n",
    "\n",
    "for i in [0, 1]:\n",
    "    for j in [0, 1]:\n",
    "        axes[i, j].set_ylabel('count of entries')\n",
    "\n",
    "plt.subplots_adjust(hspace = 0.5)\n",
    "        "
   ]
  },
  {
   "cell_type": "code",
   "execution_count": 30,
   "metadata": {},
   "outputs": [
    {
     "data": {
      "text/plain": [
       "['en', 'ar', 'es', 'und', 'fr']"
      ]
     },
     "execution_count": 30,
     "metadata": {},
     "output_type": "execute_result"
    }
   ],
   "source": [
    "language_counts = Counter(data.language)\n",
    "most_used_languages = [item[0] for item in language_counts.most_common(5)]\n",
    "most_used_languages"
   ]
  },
  {
   "cell_type": "code",
   "execution_count": 35,
   "metadata": {},
   "outputs": [
    {
     "data": {
      "text/plain": [
       "Text(0.5, 1.0, 'piechart of languages present in tweets')"
      ]
     },
     "execution_count": 35,
     "metadata": {},
     "output_type": "execute_result"
    },
    {
     "data": {
      "image/png": "[encoded data removed]",
      "text/plain": [
       "<Figure size 432x288 with 1 Axes>"
      ]
     },
     "metadata": {},
     "output_type": "display_data"
    }
   ],
   "source": [
    "processed_list = [item if item in most_used_languages else 'other' for item in data.language]\n",
    "language_counts = dict(Counter(processed_list))\n",
    "plt.pie(list(language_counts.values()), labels=list(language_counts.keys()))\n",
    "plt.title('piechart of languages present in tweets')"
   ]
  },
  {
   "cell_type": "code",
   "execution_count": null,
   "metadata": {},
   "outputs": [],
   "source": []
  },
  {
   "cell_type": "code",
   "execution_count": null,
   "metadata": {},
   "outputs": [],
   "source": []
  },
  {
   "cell_type": "code",
   "execution_count": null,
   "metadata": {},
   "outputs": [],
   "source": []
  },
  {
   "cell_type": "code",
   "execution_count": null,
   "metadata": {},
   "outputs": [],
   "source": []
  }
 ],
 "metadata": {
  "interpreter": {
   "hash": "f64dd46e90b3905b4fd78019b27090d0894b00bbe12298e2f5acb830b1e01dd4"
  },
  "kernelspec": {
   "display_name": "Python 3.8.5 ('base')",
   "language": "python",
   "name": "python3"
  },
  "language_info": {
   "codemirror_mode": {
    "name": "ipython",
    "version": 3
   },
   "file_extension": ".py",
   "mimetype": "text/x-python",
   "name": "python",
   "nbconvert_exporter": "python",
   "pygments_lexer": "ipython3",
   "version": "3.8.5"
  },
  "orig_nbformat": 4
 },
 "nbformat": 4,
 "nbformat_minor": 2
}
