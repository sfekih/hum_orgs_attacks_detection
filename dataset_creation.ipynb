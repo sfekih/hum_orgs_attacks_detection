{
 "cells": [
  {
   "cell_type": "code",
   "execution_count": 1,
   "metadata": {},
   "outputs": [],
   "source": [
    "import os\n",
    "\n",
    "import pandas as pd\n",
    "import numpy as np"
   ]
  },
  {
   "cell_type": "markdown",
   "metadata": {},
   "source": [
    "#### 1) Get list of organisations: used later to filter out tweets"
   ]
  },
  {
   "cell_type": "code",
   "execution_count": 3,
   "metadata": {},
   "outputs": [
    {
     "data": {
      "text/html": [
       "<div>\n",
       "<style scoped>\n",
       "    .dataframe tbody tr th:only-of-type {\n",
       "        vertical-align: middle;\n",
       "    }\n",
       "\n",
       "    .dataframe tbody tr th {\n",
       "        vertical-align: top;\n",
       "    }\n",
       "\n",
       "    .dataframe thead th {\n",
       "        text-align: right;\n",
       "    }\n",
       "</style>\n",
       "<table border=\"1\" class=\"dataframe\">\n",
       "  <thead>\n",
       "    <tr style=\"text-align: right;\">\n",
       "      <th></th>\n",
       "      <th>Partner Acronym</th>\n",
       "      <th>Partner Full Name</th>\n",
       "      <th>Organisation type</th>\n",
       "    </tr>\n",
       "  </thead>\n",
       "  <tbody>\n",
       "    <tr>\n",
       "      <th>1</th>\n",
       "      <td>DRC</td>\n",
       "      <td>Danish Refugee Council</td>\n",
       "      <td>INGO</td>\n",
       "    </tr>\n",
       "    <tr>\n",
       "      <th>2</th>\n",
       "      <td>SSORD</td>\n",
       "      <td>Sabea Sanabul Organization for Relief and Deve...</td>\n",
       "      <td>NNGO</td>\n",
       "    </tr>\n",
       "    <tr>\n",
       "      <th>3</th>\n",
       "      <td>Mercy Corps</td>\n",
       "      <td>Mercy Corps</td>\n",
       "      <td>INGO</td>\n",
       "    </tr>\n",
       "    <tr>\n",
       "      <th>5</th>\n",
       "      <td>DARY</td>\n",
       "      <td>DARY Organization</td>\n",
       "      <td>INGO</td>\n",
       "    </tr>\n",
       "    <tr>\n",
       "      <th>6</th>\n",
       "      <td>IRC</td>\n",
       "      <td>International Rescue Committee</td>\n",
       "      <td>INGO</td>\n",
       "    </tr>\n",
       "  </tbody>\n",
       "</table>\n",
       "</div>"
      ],
      "text/plain": [
       "  Partner Acronym                                  Partner Full Name  \\\n",
       "1             DRC                             Danish Refugee Council   \n",
       "2           SSORD  Sabea Sanabul Organization for Relief and Deve...   \n",
       "3     Mercy Corps                                        Mercy Corps   \n",
       "5            DARY                                  DARY Organization   \n",
       "6             IRC                     International Rescue Committee   \n",
       "\n",
       "  Organisation type  \n",
       "1              INGO  \n",
       "2              NNGO  \n",
       "3              INGO  \n",
       "5              INGO  \n",
       "6              INGO  "
      ]
     },
     "execution_count": 3,
     "metadata": {},
     "output_type": "execute_result"
    }
   ],
   "source": [
    "#data downloaded anually from: https://data.4tu.nl/articles/dataset/Repository_of_fake_news_detection_datasets/14151755\n",
    "\n",
    "orgs_table = pd.read_excel(\n",
    "    'data/hum_data_iraq/iraq_3w_jan-to-dec_2021_longtable_20220120.xlsx', \n",
    "    sheet_name='3W longtable Jan-Dec 2021', \n",
    "    usecols=['Partner Acronym', 'Partner Full Name', 'Organisation type']\n",
    "    )[1:]\n",
    "\n",
    "\n",
    "iraq_covid = iraq_longtable = pd.read_excel(\n",
    "    'data/hum_data_iraq/covid_and_noncovid_iraq_3w_jan-to-dec_2020_longtable_20210118.xlsx', \n",
    "    sheet_name='3W longtable Jan-Dec 2020', \n",
    "    usecols=['Partner Acronym', 'Partner Full Name', 'Organisation type']\n",
    "    )[1:]\n",
    "\n",
    "orgs_table = orgs_table.append(iraq_covid)\n",
    "orgs_table.drop_duplicates(inplace=True)\n",
    "\n",
    "orgs_table.head()"
   ]
  },
  {
   "cell_type": "code",
   "execution_count": 4,
   "metadata": {},
   "outputs": [
    {
     "name": "stdout",
     "output_type": "stream",
     "text": [
      "there are 561 different organisations in this dataset\n"
     ]
    }
   ],
   "source": [
    "print(f'there are {orgs_table.shape[0]} different organisations in this dataset')\n"
   ]
  },
  {
   "cell_type": "code",
   "execution_count": 5,
   "metadata": {},
   "outputs": [
    {
     "data": {
      "text/plain": [
       "array(['INGO', 'NNGO', 'UN', 'Other', 'IO'], dtype=object)"
      ]
     },
     "execution_count": 5,
     "metadata": {},
     "output_type": "execute_result"
    }
   ],
   "source": [
    "#which orgs type to keep????\n",
    "orgs_table['Organisation type'].unique()"
   ]
  },
  {
   "cell_type": "markdown",
   "metadata": {},
   "source": [
    "- To be able to use this wied set of users, some processing needed:\n",
    "    - not direct perfect matching (tweets usually contain faults)\n",
    "    - translation of organisations to other problems   \n",
    "<br>\n",
    "- Problem: Complexity of filtering sentences explodes"
   ]
  },
  {
   "cell_type": "code",
   "execution_count": 2,
   "metadata": {},
   "outputs": [],
   "source": [
    "def flatten(t):\n",
    "    return [item for sublist in t for item in sublist]"
   ]
  },
  {
   "cell_type": "markdown",
   "metadata": {},
   "source": [
    "### 2) trying different fact-checking datasets"
   ]
  },
  {
   "cell_type": "code",
   "execution_count": 9,
   "metadata": {},
   "outputs": [
    {
     "data": {
      "text/plain": [
       "['politifact_fake.csv',\n",
       " 'politifact_real.csv',\n",
       " 'gossipcop_real.csv',\n",
       " 'gossipcop_fake.csv']"
      ]
     },
     "execution_count": 9,
     "metadata": {},
     "output_type": "execute_result"
    }
   ],
   "source": [
    "# example of dataset found on the net about fact checking detection\n",
    "# dataset found in this link: https://github.com/KaiDMML/FakeNewsNet/tree/master/dataset\n",
    "os.listdir('data/FakeNewsNet-master/dataset')"
   ]
  },
  {
   "cell_type": "code",
   "execution_count": 10,
   "metadata": {},
   "outputs": [
    {
     "data": {
      "text/html": [
       "<div>\n",
       "<style scoped>\n",
       "    .dataframe tbody tr th:only-of-type {\n",
       "        vertical-align: middle;\n",
       "    }\n",
       "\n",
       "    .dataframe tbody tr th {\n",
       "        vertical-align: top;\n",
       "    }\n",
       "\n",
       "    .dataframe thead th {\n",
       "        text-align: right;\n",
       "    }\n",
       "</style>\n",
       "<table border=\"1\" class=\"dataframe\">\n",
       "  <thead>\n",
       "    <tr style=\"text-align: right;\">\n",
       "      <th></th>\n",
       "      <th>id</th>\n",
       "      <th>news_url</th>\n",
       "      <th>title</th>\n",
       "      <th>tweet_ids</th>\n",
       "    </tr>\n",
       "  </thead>\n",
       "  <tbody>\n",
       "    <tr>\n",
       "      <th>0</th>\n",
       "      <td>politifact15014</td>\n",
       "      <td>speedtalk.com/forum/viewtopic.php?t=51650</td>\n",
       "      <td>BREAKING: First NFL Team Declares Bankruptcy O...</td>\n",
       "      <td>937349434668498944\\t937379378006282240\\t937380...</td>\n",
       "    </tr>\n",
       "    <tr>\n",
       "      <th>1</th>\n",
       "      <td>politifact15156</td>\n",
       "      <td>politics2020.info/index.php/2018/03/13/court-o...</td>\n",
       "      <td>Court Orders Obama To Pay $400 Million In Rest...</td>\n",
       "      <td>972666281441878016\\t972678396575559680\\t972827...</td>\n",
       "    </tr>\n",
       "    <tr>\n",
       "      <th>2</th>\n",
       "      <td>politifact14745</td>\n",
       "      <td>www.nscdscamps.org/blog/category/parenting/467...</td>\n",
       "      <td>UPDATE: Second Roy Moore Accuser Works For Mic...</td>\n",
       "      <td>929405740732870656\\t929439450400264192\\t929439...</td>\n",
       "    </tr>\n",
       "    <tr>\n",
       "      <th>3</th>\n",
       "      <td>politifact14355</td>\n",
       "      <td>https://howafrica.com/oscar-pistorius-attempts...</td>\n",
       "      <td>Oscar Pistorius Attempts To Commit Suicide</td>\n",
       "      <td>886941526458347521\\t887011300278194176\\t887023...</td>\n",
       "    </tr>\n",
       "    <tr>\n",
       "      <th>4</th>\n",
       "      <td>politifact15371</td>\n",
       "      <td>http://washingtonsources.org/trump-votes-for-d...</td>\n",
       "      <td>Trump Votes For Death Penalty For Being Gay</td>\n",
       "      <td>915205698212040704\\t915242076681506816\\t915249...</td>\n",
       "    </tr>\n",
       "  </tbody>\n",
       "</table>\n",
       "</div>"
      ],
      "text/plain": [
       "                id                                           news_url  \\\n",
       "0  politifact15014          speedtalk.com/forum/viewtopic.php?t=51650   \n",
       "1  politifact15156  politics2020.info/index.php/2018/03/13/court-o...   \n",
       "2  politifact14745  www.nscdscamps.org/blog/category/parenting/467...   \n",
       "3  politifact14355  https://howafrica.com/oscar-pistorius-attempts...   \n",
       "4  politifact15371  http://washingtonsources.org/trump-votes-for-d...   \n",
       "\n",
       "                                               title  \\\n",
       "0  BREAKING: First NFL Team Declares Bankruptcy O...   \n",
       "1  Court Orders Obama To Pay $400 Million In Rest...   \n",
       "2  UPDATE: Second Roy Moore Accuser Works For Mic...   \n",
       "3         Oscar Pistorius Attempts To Commit Suicide   \n",
       "4        Trump Votes For Death Penalty For Being Gay   \n",
       "\n",
       "                                           tweet_ids  \n",
       "0  937349434668498944\\t937379378006282240\\t937380...  \n",
       "1  972666281441878016\\t972678396575559680\\t972827...  \n",
       "2  929405740732870656\\t929439450400264192\\t929439...  \n",
       "3  886941526458347521\\t887011300278194176\\t887023...  \n",
       "4  915205698212040704\\t915242076681506816\\t915249...  "
      ]
     },
     "execution_count": 10,
     "metadata": {},
     "output_type": "execute_result"
    }
   ],
   "source": [
    "# example of dataset (not taslking about humanitarian organisations)\n",
    "pd.read_csv('data/FakeNewsNet-master/dataset/politifact_fake.csv').head()"
   ]
  },
  {
   "cell_type": "code",
   "execution_count": null,
   "metadata": {},
   "outputs": [],
   "source": []
  },
  {
   "cell_type": "code",
   "execution_count": 11,
   "metadata": {},
   "outputs": [
    {
     "name": "stderr",
     "output_type": "stream",
     "text": [
      "Using custom data configuration default\n",
      "Reusing dataset liar (/home/selim/.cache/huggingface/datasets/liar/default/1.0.0/479463e757b7991eed50ffa7504d7788d6218631a484442e2098dabbf3b44514)\n"
     ]
    }
   ],
   "source": [
    "# one other example: 'liar' dataset from huggingface\n",
    "from datasets import load_dataset\n",
    "dataset = load_dataset(\"liar\")"
   ]
  },
  {
   "cell_type": "code",
   "execution_count": 14,
   "metadata": {},
   "outputs": [
    {
     "data": {
      "text/html": [
       "<div>\n",
       "<style scoped>\n",
       "    .dataframe tbody tr th:only-of-type {\n",
       "        vertical-align: middle;\n",
       "    }\n",
       "\n",
       "    .dataframe tbody tr th {\n",
       "        vertical-align: top;\n",
       "    }\n",
       "\n",
       "    .dataframe thead th {\n",
       "        text-align: right;\n",
       "    }\n",
       "</style>\n",
       "<table border=\"1\" class=\"dataframe\">\n",
       "  <thead>\n",
       "    <tr style=\"text-align: right;\">\n",
       "      <th></th>\n",
       "      <th>label</th>\n",
       "      <th>statement</th>\n",
       "      <th>subject</th>\n",
       "    </tr>\n",
       "  </thead>\n",
       "  <tbody>\n",
       "    <tr>\n",
       "      <th>0</th>\n",
       "      <td>0</td>\n",
       "      <td>Says the Annies List political group supports ...</td>\n",
       "      <td>abortion</td>\n",
       "    </tr>\n",
       "    <tr>\n",
       "      <th>1</th>\n",
       "      <td>1</td>\n",
       "      <td>When did the decline of coal start? It started...</td>\n",
       "      <td>energy,history,job-accomplishments</td>\n",
       "    </tr>\n",
       "    <tr>\n",
       "      <th>2</th>\n",
       "      <td>2</td>\n",
       "      <td>Hillary Clinton agrees with John McCain \"by vo...</td>\n",
       "      <td>foreign-policy</td>\n",
       "    </tr>\n",
       "    <tr>\n",
       "      <th>3</th>\n",
       "      <td>0</td>\n",
       "      <td>Health care reform legislation is likely to ma...</td>\n",
       "      <td>health-care</td>\n",
       "    </tr>\n",
       "    <tr>\n",
       "      <th>4</th>\n",
       "      <td>1</td>\n",
       "      <td>The economic turnaround started at the end of ...</td>\n",
       "      <td>economy,jobs</td>\n",
       "    </tr>\n",
       "  </tbody>\n",
       "</table>\n",
       "</div>"
      ],
      "text/plain": [
       "   label                                          statement  \\\n",
       "0      0  Says the Annies List political group supports ...   \n",
       "1      1  When did the decline of coal start? It started...   \n",
       "2      2  Hillary Clinton agrees with John McCain \"by vo...   \n",
       "3      0  Health care reform legislation is likely to ma...   \n",
       "4      1  The economic turnaround started at the end of ...   \n",
       "\n",
       "                              subject  \n",
       "0                            abortion  \n",
       "1  energy,history,job-accomplishments  \n",
       "2                      foreign-policy  \n",
       "3                         health-care  \n",
       "4                        economy,jobs  "
      ]
     },
     "execution_count": 14,
     "metadata": {},
     "output_type": "execute_result"
    }
   ],
   "source": [
    "huggningface_liar_data = pd.DataFrame(dataset['train'])[['label', 'statement', 'subject']]\n",
    "huggningface_liar_data.head()"
   ]
  },
  {
   "cell_type": "code",
   "execution_count": 15,
   "metadata": {},
   "outputs": [
    {
     "name": "stdout",
     "output_type": "stream",
     "text": [
      "In this dataset, there are 10269 satements\n"
     ]
    }
   ],
   "source": [
    "print(f'In this dataset, there are {huggningface_liar_data.shape[0]} satements')"
   ]
  },
  {
   "cell_type": "code",
   "execution_count": 13,
   "metadata": {},
   "outputs": [
    {
     "data": {
      "text/plain": [
       "array(['cicr', 'croce rossa', 'croce-rossa', 'croce_rossa', 'crocerossa',\n",
       "       'croix rouge', 'croix-rouge', 'croix_rouge', 'croixrouge',\n",
       "       'cruz roja', 'cruz-roja', 'cruz_roja', 'cruzroja', 'icrc',\n",
       "       'red crescent', 'red cross', 'red-crescent', 'red-cross',\n",
       "       'red_crescent', 'red_cross', 'redcrescent', 'redcross',\n",
       "       'الهلال الأحمر', 'الهلال-الأحمر', 'الهلال_الأحمر', 'الهلالالأحمر'],\n",
       "      dtype='<U13')"
      ]
     },
     "execution_count": 13,
     "metadata": {},
     "output_type": "execute_result"
    }
   ],
   "source": [
    "#small characters, omit punctiation, add icrc, \n",
    "ICRC_tags = [\n",
    "    'Red Crescent', \n",
    "    'Red Cross', \n",
    "    'الهلال الأحمر', \n",
    "    'Croix Rouge', \n",
    "    'ICRC', \n",
    "    'CICR',\n",
    "    'Cruz Roja',\n",
    "    'Croce Rossa'\n",
    "    ]\n",
    "\n",
    "augmented_punctuations = [\"\", \"-\", \"_\", \" \"]\n",
    "augmented_tags = np.unique([tag.lower().replace(\" \", punc) for tag in ICRC_tags for punc in augmented_punctuations])\n",
    "\n",
    "augmented_tags \n"
   ]
  },
  {
   "cell_type": "code",
   "execution_count": 16,
   "metadata": {},
   "outputs": [
    {
     "data": {
      "text/html": [
       "<div>\n",
       "<style scoped>\n",
       "    .dataframe tbody tr th:only-of-type {\n",
       "        vertical-align: middle;\n",
       "    }\n",
       "\n",
       "    .dataframe tbody tr th {\n",
       "        vertical-align: top;\n",
       "    }\n",
       "\n",
       "    .dataframe thead th {\n",
       "        text-align: right;\n",
       "    }\n",
       "</style>\n",
       "<table border=\"1\" class=\"dataframe\">\n",
       "  <thead>\n",
       "    <tr style=\"text-align: right;\">\n",
       "      <th></th>\n",
       "      <th>label</th>\n",
       "      <th>statement</th>\n",
       "      <th>subject</th>\n",
       "    </tr>\n",
       "  </thead>\n",
       "  <tbody>\n",
       "  </tbody>\n",
       "</table>\n",
       "</div>"
      ],
      "text/plain": [
       "Empty DataFrame\n",
       "Columns: [label, statement, subject]\n",
       "Index: []"
      ]
     },
     "execution_count": 16,
     "metadata": {},
     "output_type": "execute_result"
    }
   ],
   "source": [
    "# No statement involves the ICRC\n",
    "huggingface_liar_icrc_retalted_tweets = huggningface_liar_data[\n",
    "    huggningface_liar_data.statement.apply(\n",
    "        lambda x: any([name in x.lower() for name in  augmented_tags])\n",
    "        )\n",
    "    ]\n",
    "\n",
    "huggingface_liar_icrc_retalted_tweets"
   ]
  },
  {
   "cell_type": "markdown",
   "metadata": {},
   "source": [
    "### 3) filtering out ICRC related tweets from taitter api data"
   ]
  },
  {
   "cell_type": "code",
   "execution_count": 28,
   "metadata": {},
   "outputs": [],
   "source": [
    "columns_names = ['language', 'tweet']\n",
    "cols = [3, 10]\n",
    "data_original = pd.read_csv('data/tweets_data_jan18.csv', usecols=cols, names=columns_names).drop_duplicates(inplace=False)"
   ]
  },
  {
   "cell_type": "code",
   "execution_count": 29,
   "metadata": {},
   "outputs": [
    {
     "data": {
      "text/html": [
       "<div>\n",
       "<style scoped>\n",
       "    .dataframe tbody tr th:only-of-type {\n",
       "        vertical-align: middle;\n",
       "    }\n",
       "\n",
       "    .dataframe tbody tr th {\n",
       "        vertical-align: top;\n",
       "    }\n",
       "\n",
       "    .dataframe thead th {\n",
       "        text-align: right;\n",
       "    }\n",
       "</style>\n",
       "<table border=\"1\" class=\"dataframe\">\n",
       "  <thead>\n",
       "    <tr style=\"text-align: right;\">\n",
       "      <th></th>\n",
       "      <th>language</th>\n",
       "      <th>tweet</th>\n",
       "    </tr>\n",
       "  </thead>\n",
       "  <tbody>\n",
       "    <tr>\n",
       "      <th>0</th>\n",
       "      <td>it</td>\n",
       "      <td>Croce Rossa della Italia: https://t.co/lbnBTjx...</td>\n",
       "    </tr>\n",
       "    <tr>\n",
       "      <th>1</th>\n",
       "      <td>it</td>\n",
       "      <td>@annibale1962 @IULIUSAGRICOLA @distefanoTW @br...</td>\n",
       "    </tr>\n",
       "    <tr>\n",
       "      <th>2</th>\n",
       "      <td>it</td>\n",
       "      <td>Come ci si può fidare di testate del genere?\\\\...</td>\n",
       "    </tr>\n",
       "    <tr>\n",
       "      <th>3</th>\n",
       "      <td>it</td>\n",
       "      <td>@petroglifi @borghi_claudio @marcogirgi @Roghi...</td>\n",
       "    </tr>\n",
       "    <tr>\n",
       "      <th>4</th>\n",
       "      <td>it</td>\n",
       "      <td>Sassate contro l'auto della Croce rossa; forse...</td>\n",
       "    </tr>\n",
       "  </tbody>\n",
       "</table>\n",
       "</div>"
      ],
      "text/plain": [
       "  language                                              tweet\n",
       "0       it  Croce Rossa della Italia: https://t.co/lbnBTjx...\n",
       "1       it  @annibale1962 @IULIUSAGRICOLA @distefanoTW @br...\n",
       "2       it  Come ci si può fidare di testate del genere?\\\\...\n",
       "3       it  @petroglifi @borghi_claudio @marcogirgi @Roghi...\n",
       "4       it  Sassate contro l'auto della Croce rossa; forse..."
      ]
     },
     "execution_count": 29,
     "metadata": {},
     "output_type": "execute_result"
    }
   ],
   "source": [
    "data_original.head()"
   ]
  },
  {
   "cell_type": "code",
   "execution_count": 31,
   "metadata": {},
   "outputs": [],
   "source": [
    "from tqdm import tqdm\n",
    "\n",
    "\"\"\"#use for loop to be able to know the time it will take\n",
    "hum_data_related_tweets = []\n",
    "for tweet_tmp in tqdm(data_original.tweet.unique()):\n",
    "    lowered_tweet = tweet_tmp.lower()\n",
    "    if any([name in lowered_tweet for name in  augmented_tags]):\n",
    "        hum_data_related_tweets.append(tweet_tmp)\"\"\"\n",
    "\n",
    "hum_data_related_tweets = data_original[\n",
    "    data_original.tweet.apply(\n",
    "        lambda x: any([name in x.lower() for name in  augmented_tags])\n",
    "        )\n",
    "    ]"
   ]
  },
  {
   "cell_type": "code",
   "execution_count": 23,
   "metadata": {},
   "outputs": [
    {
     "name": "stdout",
     "output_type": "stream",
     "text": [
      "22718 tweets talk about the ICRC\n"
     ]
    }
   ],
   "source": [
    "print(f'{len(hum_data_related_tweets)} tweets talk about the ICRC')"
   ]
  },
  {
   "cell_type": "code",
   "execution_count": 35,
   "metadata": {},
   "outputs": [
    {
     "data": {
      "text/plain": [
       "['Great work! The @EG_Red_Crescent assistance programme in Northern #Sinai in collaboration with the @ICRC_ar in #Egypt https://t.co/xj93RVvTcP',\n",
       " \"Mansour; a 4-year-old from Aden; lost his leg after being shot by a Houthi sniper during an attack on the south in 2015. His father was unable to treat him to help Mansour's father call him 734541408\\\\\\n@ICRC_ar \\\\\\n@msf_arabic \\\\\\n@UNICEFinArabic https://t.co/jcZXkL4BtD\",\n",
       " \".@ICRC @ICRC_ar @ICRC_sy @SYRedCrescent @UNHumanRights @ohchr_ar \\\\\\nWhere were you when ASSad's monsters raped and tortured to death Syrian Children Women and Men?\\\\\\nFYI @FamiliesSyria @amnesty @AmnestySyria @Amnesty_Schweiz https://t.co/51LUwCEMet\",\n",
       " \"@UN\\\\\\n@realDonaldTrump\\\\\\n@ICRC_ar\\\\\\n⬇️\\\\\\nIs not that enough for Iran's mullahs to go to hell?\\\\\\nhttps://t.co/5GWXNZ7vnf\\\\\\n#iranprotests #تظاهرات_سراسرى\",\n",
       " '.@ICRC_ar Could you please help this child? She and her family were displaced to Damascus; and #Assad continues failing the most vulnerable. https://t.co/IbEWLOoF1A',\n",
       " \"#InternationalCommitteeoftheRedCross: #ICRC\\\\\\n@Torqued When did it happen.\\\\\\nAre you sure it was obama's time? Or is it still happening under ofa's watch/direction???\\\\\\n#obamaGate #QAnon @GOP @GOP @GOP @GOPChairwoman @CIA https://t.co/FT3u9DIMD4\",\n",
       " 'Neutral; impartial and independent\\\\\\n#InternationalCommitteeoftheRedCross #ICRC https://t.co/mvog0YM62u',\n",
       " '@maganewsnetwork @OnlyTruthReign The International Committee of Red Cross was sure enough helping themselves with money! Why was this money not accounted for? 🤔 Why was it in a warehouse stack with hundreds of boxes with millions of dollars?🤔 Who was they funding?🤔 We need answer!',\n",
       " 'International Committee of the Red Cross (ICRC) https://t.co/mcZ9sVrltB',\n",
       " 'International Committee of the Red Cross (ICRC) https://t.co/FsQe1CDsRM',\n",
       " 'New job on Great Uganda Jobs: Finance Responsible Job at International Committee of Red Cross ( ICRC ) - Career... https://t.co/BSqUMBOPbJ',\n",
       " \"New Job: 'Finance Responsible Job at International Committee of Red Cross ( ICRC ) - Career Opportunity in... https://t.co/zUOJey4qB1\",\n",
       " 'Finance Responsible Job at International Committee of Red Cross ( ICRC… https://t.co/8DGzHBIxY4 Add your CV https://t.co/QmesFeMXbY',\n",
       " 'Finance Responsible Job at International Committee of Red Cross ( ICRC… https://t.co/8DGzHBIxY4 Add your CV',\n",
       " 'International Committee of the Red Cross (ICRC) https://t.co/HPH0CjcqB3',\n",
       " 'International Committee of the Red Cross (ICRC) https://t.co/GYAwD1yUet',\n",
       " '@owolabitaiwo @HQNigerianArmy @NTANewsNow @nanonlineng Unesco could approach the international committee of red Cross and red crescent in Geneva and Kuwait to intercede since they are none combatant academia.',\n",
       " 'VanAuken:The International Committee of Red Cross announced last week  that the number of cholera cases topped 1 million;worst epidemic in  modern history; while country been hit by an outbreak of  diphtheria;disease that has been almost entirely eradicated in the rest of world.',\n",
       " \"'We hope the phrase “all political prisoners” include the over 37;000 #Oromo political prisoners detained between 1992 and 1995 as members; sympathizers and supporters of the OLF; and still remain in prison according to sources at the International Red Cross Committee(ICRC)'\",\n",
       " '..@Antonio_Tajani @Europarl_IT @margSchinas @FedericaMog @EP_President @Europarl_EN @UNHumanRights @JustinTrudeau @EmmanuelMacron @BorisJohnson @SwissHumAidUnit @PMaurerICRC @SwissHumAidUnit\\\\\\n@UKUN_NewYork @LiechtensteinUN @swiss_un\\\\\\n\\\\\\nWHY IS THE WORLD SILENT? https://t.co/ES7c7ppaMX']"
      ]
     },
     "execution_count": 35,
     "metadata": {},
     "output_type": "execute_result"
    }
   ],
   "source": [
    "list(hum_data_related_tweets[hum_data_related_tweets.language=='en'].tweet)[:20]"
   ]
  },
  {
   "cell_type": "markdown",
   "metadata": {},
   "source": [
    "- Objective: filter out irrelevant tweets: Examples:   \n",
    "`'Finance Responsible Job at International Committee of Red Cross ( ICRC… https://t.co/8DGzHBIxY4 Add your CV https://t.co/QmesFeMXbY'`,  \n",
    "`'Finance Responsible Job at International Committee of Red Cross ( ICRC… https://t.co/8DGzHBIxY4 Add your CV'`,  \n",
    "`'International Committee of the Red Cross (ICRC) https://t.co/HPH0CjcqB3'`,  \n",
    "`'International Committee of the Red Cross (ICRC) https://t.co/GYAwD1yUet'`,"
   ]
  },
  {
   "cell_type": "code",
   "execution_count": 36,
   "metadata": {},
   "outputs": [],
   "source": [
    "from transformers import pipeline\n",
    "\n",
    "#extremly distilled model to have general understanding of models' performance\n",
    "classifier = pipeline(\"zero-shot-classification\", model=\"MoritzLaurer/xtremedistil-l6-h256-mnli-fever-anli-ling-binary\")"
   ]
  },
  {
   "cell_type": "code",
   "execution_count": 37,
   "metadata": {},
   "outputs": [],
   "source": [
    "from tqdm import tqdm"
   ]
  },
  {
   "cell_type": "code",
   "execution_count": 38,
   "metadata": {},
   "outputs": [
    {
     "name": "stderr",
     "output_type": "stream",
     "text": [
      "100%|██████████| 22718/22718 [16:04<00:00, 23.54it/s]\n"
     ]
    }
   ],
   "source": [
    "candidate_labels = [\"relevant\", \"irrelevant\"]\n",
    "\n",
    "final_sents = []\n",
    "for sent in tqdm(hum_data_related_tweets.tweet):\n",
    "    res = classifier(sent, candidate_labels)\n",
    "    final_sents.append(res)"
   ]
  },
  {
   "cell_type": "code",
   "execution_count": 46,
   "metadata": {},
   "outputs": [
    {
     "data": {
      "text/plain": [
       "{'sequence': 'Croce Rossa della Italia: https://t.co/lbnBTjxYfG #Italia #CroceRossa \\\\\\n2018/1/14 17:27',\n",
       " 'labels': ['relevant', 'irrelevant'],\n",
       " 'scores': [0.6076647043228149, 0.3923352360725403]}"
      ]
     },
     "execution_count": 46,
     "metadata": {},
     "output_type": "execute_result"
    }
   ],
   "source": [
    "#idea on output sctructure\n",
    "final_sents[0]"
   ]
  },
  {
   "cell_type": "code",
   "execution_count": null,
   "metadata": {},
   "outputs": [],
   "source": []
  },
  {
   "cell_type": "code",
   "execution_count": 41,
   "metadata": {},
   "outputs": [
    {
     "data": {
      "text/plain": [
       "['This is IMPORTANT!  Help the #RedCross overcome a winter blood shortage. 1. Make an appt to #GiveNow at https://t.co/jJ62gftr0l 2. Ask a pal to give 3. Please retweet this msg https://t.co/bdVNgo380M',\n",
       " 'We @ICRC produced this video several years ago. It’s still relevant - unfortunately - so we keep sharing it.  #NotATarget https://t.co/5REbl2PjkN',\n",
       " 'Very important HELP #montecito #montecitomudslides #ThomasFire anything you can do to help please contact @RedCross &amp; @montecitofire https://t.co/iq5ODBf8nM',\n",
       " \"I agree! If I were there; I'd lend a hand. #giveblood is so important! #savelives @RedCross https://t.co/wUMZWNoFs6\",\n",
       " 'Another reason why you should join us today! Find out how you can volunteer for the @BritishRedCross here https://t.co/6SLTBOBBGf https://t.co/SwmzLd6wNZ',\n",
       " 'Keeping warm is important.  Keeping warm SAFELY is even more important!  #RedCross  #neoredcross https://t.co/wZQaeMqFLO',\n",
       " 'This is so spot on. From my own experience charities like @RedCross and their branches are all used for money laundering and to do the exact opposite of what people give their own money because they think they are doing GOOD...wrong #fraud https://t.co/P0pQxaMaQk',\n",
       " \"Awesome to see the donations pouring into #AndyDalton's foundation.\\\\\\nThis @WBFO story points out how @RedCross is still seeking assistance to help the people of #PuertoRico:\\\\\\n\\\\\\n'Puerto Rico Still In Need Of Aid'\\\\\\nhttps://t.co/BOff1LMBzs\\\\\\n#Buffalo\",\n",
       " 'This is a perfect example of how using #FirstAid kits &amp; training can save lives. Why not kick-start 2018 with a #FirstAid course? Book online at #RedCross today! https://t.co/dIA5WK6ppk',\n",
       " '@Leslie67915456 @EverydayMAGA @Janethecrusader @kimmyj_Cx2 @ncar999 @tennesseemomme1 @J12Young @TempusSpiritus @JeffWorrell5 @DonnaTilley13 @KRoadhog @leahbirdjohnso2 @tomde62 @GrittaMarcus @Godsgirl158 @shafnerMS @greeneyedbecky @americanPAT7 @Red_State_Rebel @mordupree @ConservaPeach @Melissa1opinion @The_Mad_Rebel @OldManStoneZone @GigiTracyXO @USATrump45 @rick_negan @christy_mcafee @jwaxsom @loner1dad @lolly2nd @hickorymtnman @surfermom77 Thank you. Fits in with all the info from Q about the Red Cross. Thanks! Will spread the word.',\n",
       " '@Kenya_Traffic @kenntwitts @Ma3Route @PRSA_Roadsafety @motoristsoffice @KenyanTraffic @roadsvolunteer @UsafiriApp @KenyaRedCross @NPSOfficial_KE @UKenyatta @CarolineWangun2 @rianaberyl @gladysmungaii @ntsa_kenya @JBoinnet @embassava @qua @itsotienomokaya @fredrick_kavoo @Mbogo254 @SafeWayRightWay @984inthemorning @kennedypele @kenyanwalstreet @GODDISM @ItsWa_Kabera @nyenjeri_sir @C_NyaKundiH @AderaJacob @DavisSaitoti @overlapKE @pertrikpatoo @KitisyaMuli @AmEricko895 @Muhoss @ibrahimatengo @gkimega @MikeSonko @county_nairobi @Wakanyeria @NTSAkenya @TumoshTitus @stevoDemosh1 @PresidentKE @willy_muchiri The @KenyaRedCross helping stranded school kids in Kisumu. Most of them were travelling to Siaya County. Thumps up Kenya Red Cross! @anna_mukasa @Hot_96Kenya #RhythmJunction https://t.co/RCleI9og3x\\\\\\nView photo ·',\n",
       " 'This is what the American Red Cross is all about. Take two minutes to hear from local Red Cross volunteer Dawn Ridz; who recently returned from a three week deployment to Puerto Rico. via @nbcsandiego https://t.co/ILcFDhL8kU',\n",
       " \"@angelafritz Thanks for the clarification! It's important to be informed during weather events like this #bombcyclone. Make sure your readers stay in the know with these #RedCross winter safety tips: https://t.co/Q34ZtnHCc2 https://t.co/9nDLlB4N4e\",\n",
       " '“When I got no response; I knew something was wrong and that I had to call an ambulance and help.”\\\\\\nThis is a very real situation for many. \\\\\\n“Thankfully; I remembered the Red Cross baby and child first aid app I’d downloaded on to my phone”\\\\\\n#Learn #FirstAid\\\\\\nhttps://t.co/jWoCypbebb https://t.co/FgE9Pb6M1M',\n",
       " 'Today my office partnered with @redcrossny @RedCross to install free smoke alarms in #Bronx homes. Sixty volunteers installed 400 alarms. This saves lives! Fire safety is important! Make sure your smoke alarms are in working order! #bronxbp #nyc #firesafety',\n",
       " 'Be sure to stay safe this winter! \\\\\\n\\\\\\nCheck out this great guide from the Red Cross for what to do before; during; and after a winter storm. \\\\\\n\\\\\\nhttps://t.co/ORnlWjdbpy',\n",
       " 'واصل فريق هيئة الهلال الأحمر الإماراتي عملياته الإغاثية في مختلف المناطق المحررة في اليمن حيث وزع مواد غذائية على السكان في منطقة الخوخة شمال الحديدة. وتضم القافلة الإغاثية التي تعتبر ثاني قافلة مساعدات يسيرها الهلال منذ تحرير مدينة الخوخة.. مواد غذائية وإغاثية ومعونات متنوعة. https://t.co/TlQcs9ks2w',\n",
       " \"'Qué honor ser sede de este importante encuentro; bienvenidos a todos; será una jornada enriquecedora' Teresa Farah; presidenta de @cruzrojaguayas; provincia anfitriona del #EncuentroVoluntariosEc de #CruzRoja https://t.co/uILYa33TMN\",\n",
       " '4/dae-dong mental(대동) &amp; da-du patima(파티마) &amp; seoul red cross &amp; dong-a university hospital; all doctor &amp; nurse kill include all workers; 5) 본인의 주거지 소음발생지 파프리카의 남영업자인 본인의 우편물 배송부 사창한 이정태를 관테나모오 이송하라. 본인이 직접 사살한다. 6) in sk https://t.co/Wfn0AsAMEG',\n",
       " 'عززت الإمارات عطاءها الإنساني في اليمن، من خلال تنميتها عبر هيئة الهلال الأحمر 6 قطاعات رئيسة، هي التعليم، والصحة، والأمن، والإغاثة، والبنية التحتية، وبرامج الإسكان، بإجمالي قيمة مساعدات بلغ نحو 9 مليارات و400 مليون درهم (ما يعادل مليارين و560 مليون دولار) خلال الفترة من... https://t.co/ddfUj9vtCb']"
      ]
     },
     "execution_count": 41,
     "metadata": {},
     "output_type": "execute_result"
    }
   ],
   "source": [
    "#relevant sentences\n",
    "[sent['sequence'] for sent in sorted(final_sents, key=lambda d: d['scores'][1]) ][:20]"
   ]
  },
  {
   "cell_type": "code",
   "execution_count": 42,
   "metadata": {},
   "outputs": [
    {
     "data": {
      "text/plain": [
       "['Red Cross disputes claims Milwaukee family was not provided assistance after house fire https://t.co/xZ2mjEstyH https://t.co/DF5NMQ37SW',\n",
       " \"It's there under the red cross\\\\\\n\\\\\\nTonic has lots of sugar. Sugar is a problem. https://t.co/NIz3PTuw7v\",\n",
       " 'se siente impaciente en CRUZ ROJA MEXICANA DELEGACIÓN SALTILLO https://t.co/TUb3XmkYKT',\n",
       " \"'RT Twiplomacy: The ICRC posted a chilling reply to Donald Trump’s nuclear sabre-rattling 🎥\\\\\\nhttps://t.co/eXnGVgL5eN https://t.co/CtnI0TGKHs'\",\n",
       " '@PolitiFact This is the same earthquake that American Red Cross collected millions to build housing and built none.',\n",
       " 'You never know when you might need the $40 Red Cross emergency radio https://t.co/EKV50enWTi',\n",
       " '@BobbyJOnline @RedCross FACTS!!!! That’s why I’m like “nah” when they ask “would u like to donate...”',\n",
       " '@RealJamesWoods I never give to the Red Cross -- they have been screwing over donors for decades; deflecting &amp; stealing donations -- there are a lot of other relief organizations who actual get your $ to the cause you donated for.',\n",
       " \"'#CruzRoja; un pilar de la sociedad canaria' vía LocalXpress https://t.co/fwdCs9AujN\",\n",
       " 'An Islamic cleric from Kerala has cooked up a bit of a storm after he has declared that the universal Red cross symbol and the Rod of Asclepius symbol used extensively in the medical field are un-Islamic',\n",
       " \"Doesn't Q talk about the Red Cross Scam❓‼️👀💰 https://t.co/ewC9W9soyS\",\n",
       " 'CRUZ ROJA ESPAÑOLA https://t.co/UGHyb6dI9P',\n",
       " '@yankifarber Daddy was a sailor; wwll; always complained that the Red Cross charged sailors and soldiers during the war for every cigarette; etc that they got.',\n",
       " '@Disembe @ntsa_kenya @KenyaRedCross @amerix Did the students pay? No; were the red cross vehicles PSVs no...iko nini hapo?!',\n",
       " 'The world is in a perilous place and political leadership and courage to ease human suffering has been in short supply.  \\\\\\n@As_SyIFRC wishlist for change in 2018: https://t.co/etUSkcoOUU @Federation #RedCross #RedCrescent',\n",
       " \"@ICRC #Please don't call them Rohingya.\\\\\\nThey are Bengali.\\\\\\nThey are foreigners. https://t.co/GdnUmwbP2y\",\n",
       " '@RedCross fact that I cannot and still cannot access my email. At that time I was not aware of the sms/text was not functioning. Therefore I never received my confirmation number. \\\\\\n         We are in a desperate need financially. At the moment we are being housed at a Hotel',\n",
       " '@yankifarber The Red Cross is a joke. CEO makes A LOT of money. Never give to them. Salvation army is good.',\n",
       " '100 years ago in Scranton - Below zero temperatures measured; local Red Cross unit sent 5;000 sweaters to the troops -  https://t.co/U54kP1e2xW',\n",
       " \"the epic shit of 2017; is the boys getting TheSegaPimp fired from his job at The Red Cross for not wishing me a 'Happy Halloween'\"]"
      ]
     },
     "execution_count": 42,
     "metadata": {},
     "output_type": "execute_result"
    }
   ],
   "source": [
    "#irrelevant sentences\n",
    "[sent['sequence'] for sent in sorted(final_sents, key=lambda d: d['scores'][0]) ][:20]"
   ]
  },
  {
   "cell_type": "markdown",
   "metadata": {},
   "source": [
    "- remarqs:\n",
    "    - irrelevant sentences tend to satisfy more our purposes\n",
    "    - use it as a base for beeter searching, keyword based for now:  \n",
    "    `Doesn't Q talk about the Red Cross Scam`,  \n",
    "    `@yankifarber The Red Cross is a joke. CEO makes A LOT of money. Never give to them. Salvation army is good.`  \n",
    "    `@PolitiFact This is the same earthquake that American Red Cross collected millions to build housing and built none.`  \n",
    "<br>\n",
    "- In the end, model helped out filter well structured sentences. \n",
    "    "
   ]
  },
  {
   "cell_type": "code",
   "execution_count": 50,
   "metadata": {},
   "outputs": [],
   "source": [
    "import pickle\n",
    "with open(\"relevancy_scores\", \"wb\") as fp:   #Pickling\n",
    "    pickle.dump(sorted(final_sents, key=lambda d: d['scores'][0]), fp)"
   ]
  },
  {
   "cell_type": "code",
   "execution_count": 49,
   "metadata": {},
   "outputs": [
    {
     "data": {
      "text/plain": [
       "Text(0.5, 1.0, 'barplot of relevancy scores')"
      ]
     },
     "execution_count": 49,
     "metadata": {},
     "output_type": "execute_result"
    },
    {
     "data": {
      "image/png": "[encoded data removed]",
      "text/plain": [
       "<Figure size 432x288 with 1 Axes>"
      ]
     },
     "metadata": {
      "needs_background": "light"
     },
     "output_type": "display_data"
    }
   ],
   "source": [
    "import matplotlib.pyplot as plt\n",
    "entailement_scores = [sent['scores'][0] for sent in final_sents]\n",
    "plt.hist(entailement_scores)\n",
    "plt.xlabel('relevancy score')\n",
    "plt.ylabel('number of tweets')\n",
    "plt.title('barplot of relevancy scores')"
   ]
  },
  {
   "cell_type": "markdown",
   "metadata": {},
   "source": [
    "- proposed work:\n",
    "    - take the data sorted with respect to the zero shot model and work on labeling it (first entries have the most chances of being positives)\n",
    "    - finetune models pretrained on twitter data (deal with data specifications, #, @, vocabulary etc.)"
   ]
  },
  {
   "cell_type": "code",
   "execution_count": null,
   "metadata": {},
   "outputs": [],
   "source": []
  },
  {
   "cell_type": "code",
   "execution_count": null,
   "metadata": {},
   "outputs": [],
   "source": []
  },
  {
   "cell_type": "code",
   "execution_count": null,
   "metadata": {},
   "outputs": [],
   "source": []
  },
  {
   "cell_type": "code",
   "execution_count": null,
   "metadata": {},
   "outputs": [],
   "source": []
  },
  {
   "cell_type": "code",
   "execution_count": null,
   "metadata": {},
   "outputs": [],
   "source": []
  }
 ],
 "metadata": {
  "interpreter": {
   "hash": "f64dd46e90b3905b4fd78019b27090d0894b00bbe12298e2f5acb830b1e01dd4"
  },
  "kernelspec": {
   "display_name": "Python 3.8.5 ('base')",
   "language": "python",
   "name": "python3"
  },
  "language_info": {
   "codemirror_mode": {
    "name": "ipython",
    "version": 3
   },
   "file_extension": ".py",
   "mimetype": "text/x-python",
   "name": "python",
   "nbconvert_exporter": "python",
   "pygments_lexer": "ipython3",
   "version": "3.8.5"
  },
  "orig_nbformat": 4
 },
 "nbformat": 4,
 "nbformat_minor": 2
}
